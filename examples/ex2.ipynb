{
 "cells": [
  {
   "cell_type": "code",
   "execution_count": 1,
   "id": "a66452b3-8367-436c-920a-819b1d6eda78",
   "metadata": {
    "tags": []
   },
   "outputs": [],
   "source": [
    "example_adjacency_list = [\n",
    "    [1, 2],\n",
    "    [2, 3],\n",
    "    [],\n",
    "    [0],\n",
    "]"
   ]
  },
  {
   "cell_type": "code",
   "execution_count": 7,
   "id": "a9d66f6e-b28f-4f81-ae1f-f352377e332b",
   "metadata": {
    "tags": []
   },
   "outputs": [],
   "source": [
    "def in_degree(graph, node_id):\n",
    "    count = 0\n",
    "    for edges in graph:\n",
    "        if node_id in edges:\n",
    "            count = count + 1\n",
    "    return count\n",
    "\n",
    "assert in_degree(example_adjacency_list, 0) == 1  # only 3 can go to 0\n",
    "    \n",
    "\n",
    "def out_degree(graph, node_id):\n",
    "    return len(graph[node_id])\n",
    "\n",
    "assert out_degree(example_adjacency_list, 0) == 2 # 0 can go to 1 or 2"
   ]
  },
  {
   "cell_type": "code",
   "execution_count": 8,
   "id": "a5f1832e-ab22-433b-b2e5-3cf3735f7fc6",
   "metadata": {
    "tags": []
   },
   "outputs": [],
   "source": [
    "example_adjacency_list_connected = [\n",
    "    [1, 2, 3],\n",
    "    [3],\n",
    "    [0],\n",
    "    [0, 1],\n",
    "]\n",
    "\n",
    "example_adjacency_list_not_connected = [\n",
    "    [2, 4],\n",
    "    [3],\n",
    "    [4],\n",
    "    [1, 5],\n",
    "    [3],\n",
    "    [1]\n",
    "]\n",
    "\n",
    "def is_path_between(graph, source, target):\n",
    "    visited = set()\n",
    "    to_visit = []\n",
    "    to_visit.append(source)\n",
    "    while to_visit:\n",
    "        current = to_visit.pop()\n",
    "        if current in visited:\n",
    "            continue\n",
    "        visited.add(current)\n",
    "        if current == target:\n",
    "            return True\n",
    "        for neighbour in graph[current]:\n",
    "            to_visit.append(neighbour)\n",
    "    return False\n",
    "\n",
    "assert is_path_between(example_adjacency_list, 0, 1)\n",
    "assert is_path_between(example_adjacency_list_not_connected, 0, 2)\n",
    "assert not is_path_between(example_adjacency_list_not_connected, 2, 0)\n",
    "\n",
    "    \n",
    "\n",
    "def is_connected(graph):\n",
    "    for n1 in range(len(graph)):\n",
    "        for n2 in range(len(graph)):\n",
    "            if not is_path_between(graph, n1, n2):\n",
    "                return False\n",
    "    return True\n",
    "\n",
    "assert not is_connected(example_adjacency_list)\n",
    "assert is_connected(example_adjacency_list_connected)"
   ]
  },
  {
   "cell_type": "code",
   "execution_count": 9,
   "id": "c6b3629b-24e2-4eb0-8b2f-d640a86fd1b2",
   "metadata": {
    "tags": []
   },
   "outputs": [],
   "source": [
    "example_adjacency_list_complete = [\n",
    "    [1, 2, 3],\n",
    "    [0, 2, 3],\n",
    "    [0, 1, 3],\n",
    "    [0, 1, 2],\n",
    "]\n",
    "\n",
    "def is_complete(graph):\n",
    "    return all(len(neighbours) == len(graph) - 1 for neighbours in graph)\n",
    "\n",
    "assert not is_complete(example_adjacency_list)\n",
    "assert is_complete(example_adjacency_list_complete)"
   ]
  },
  {
   "cell_type": "code",
   "execution_count": null,
   "id": "5a71fcc9-d1a4-4c24-8f7a-59df6d09f151",
   "metadata": {},
   "outputs": [],
   "source": []
  }
 ],
 "metadata": {
  "kernelspec": {
   "display_name": "Python 3 (ipykernel)",
   "language": "python",
   "name": "python3"
  },
  "language_info": {
   "codemirror_mode": {
    "name": "ipython",
    "version": 3
   },
   "file_extension": ".py",
   "mimetype": "text/x-python",
   "name": "python",
   "nbconvert_exporter": "python",
   "pygments_lexer": "ipython3",
   "version": "3.9.1"
  }
 },
 "nbformat": 4,
 "nbformat_minor": 5
}
