{
 "cells": [
  {
   "cell_type": "code",
   "execution_count": 2,
   "id": "30679dba-88a3-4aaa-8af1-8d1213128281",
   "metadata": {
    "tags": []
   },
   "outputs": [],
   "source": [
    "example_nodes = list(range(4)) # 0, 1, 2, 3\n",
    "example_edges = [(0, 1), (1, 2), (0, 2), (1, 3), (3, 0)]\n",
    "\n",
    "example_adjacency_matrix = [\n",
    "    [0, 1, 1, 0],\n",
    "    [0, 0, 1, 1],\n",
    "    [0, 0, 0, 0],\n",
    "    [1, 0, 0, 0]\n",
    "]\n"
   ]
  },
  {
   "cell_type": "code",
   "execution_count": 28,
   "id": "3a7f2cb8-6a08-4f3f-b460-4d1da9fd3a6f",
   "metadata": {
    "tags": []
   },
   "outputs": [
    {
     "name": "stdout",
     "output_type": "stream",
     "text": [
      "[[0, 1, 1, 0], [0, 0, 1, 1], [0, 0, 0, 0], [1, 0, 0, 0]]\n"
     ]
    }
   ],
   "source": [
    "print(example_adjacency_matrix)\n"
   ]
  },
  {
   "cell_type": "code",
   "execution_count": 64,
   "id": "06c3ca1e-a8c0-4083-847f-bfe3c13d6f45",
   "metadata": {
    "tags": []
   },
   "outputs": [],
   "source": [
    "\n",
    "# def create_adjacency_matrix(nodes, edges):\n",
    "#     output = []\n",
    "#     for x in range(len(nodes)):\n",
    "#         temp = []\n",
    "#         for y in range(4):\n",
    "#             temp.append(0)\n",
    "#         output.append(temp)\n",
    "    \n",
    "#     for edge in edges:\n",
    "#         n1,n2 = edge\n",
    "#         output[n1][n2] = 1\n",
    "#     return output\n",
    "\n",
    "def create_adjacency_matrix(nodes, edges):\n",
    "        matrix = [[0 for _ in range(len(nodes))] for _ in range(len(nodes))]\n",
    "        for i,v in edges:\n",
    "            matrix[i][v] = 1\n",
    "        return matrix\n",
    "\n",
    "\n",
    "assert create_adjacency_matrix(example_nodes, example_edges) == example_adjacency_matrix"
   ]
  },
  {
   "cell_type": "code",
   "execution_count": 57,
   "id": "6d1a2172-4f3b-4077-8392-84e1782b064a",
   "metadata": {
    "tags": []
   },
   "outputs": [
    {
     "data": {
      "text/plain": [
       "[[0, 1, 1, 0], [0, 0, 1, 1], [0, 0, 0, 0], [1, 0, 0, 0]]"
      ]
     },
     "execution_count": 57,
     "metadata": {},
     "output_type": "execute_result"
    }
   ],
   "source": [
    "create_adjacency_matrix(example_nodes, example_edges)"
   ]
  },
  {
   "cell_type": "code",
   "execution_count": 58,
   "id": "441fe327-002d-4f80-bfdb-a3f363dc3099",
   "metadata": {
    "tags": []
   },
   "outputs": [
    {
     "name": "stdout",
     "output_type": "stream",
     "text": [
      "[(0, 1), (1, 2), (0, 2), (1, 3), (3, 0)]\n"
     ]
    }
   ],
   "source": [
    "print(example_edges)"
   ]
  },
  {
   "cell_type": "code",
   "execution_count": 63,
   "id": "855c39ec-db7a-4ae9-bcd3-c35a8c5f4cc0",
   "metadata": {
    "tags": []
   },
   "outputs": [],
   "source": [
    "# def create_adjacency_list(nodes, edges):\n",
    "#     output = []\n",
    "#     for x in range(len(nodes)):\n",
    "#         output.append([])\n",
    "        \n",
    "#     for edge in edges:\n",
    "#         n1, n2 = edge\n",
    "#         output[n1].append(n2)\n",
    "#     return output\n",
    "\n",
    "def create_adjacency_list(nodes, edges):\n",
    "        adjacency_list = [[] for _ in range(len(nodes))]\n",
    "        for i,v in edges:\n",
    "            adjacency_list[i].append(v)\n",
    "        return adjacency_list\n",
    "            \n",
    "        \n",
    "example_adjacency_list = [\n",
    "    [1, 2],\n",
    "    [2, 3],\n",
    "    [],\n",
    "    [0],\n",
    "]\n",
    "assert create_adjacency_list(example_nodes, example_edges) == example_adjacency_list"
   ]
  },
  {
   "cell_type": "code",
   "execution_count": null,
   "id": "adaf7d5c-47ca-4163-8661-55c57c3ad786",
   "metadata": {},
   "outputs": [],
   "source": []
  }
 ],
 "metadata": {
  "kernelspec": {
   "display_name": "Python 3 (ipykernel)",
   "language": "python",
   "name": "python3"
  },
  "language_info": {
   "codemirror_mode": {
    "name": "ipython",
    "version": 3
   },
   "file_extension": ".py",
   "mimetype": "text/x-python",
   "name": "python",
   "nbconvert_exporter": "python",
   "pygments_lexer": "ipython3",
   "version": "3.9.1"
  }
 },
 "nbformat": 4,
 "nbformat_minor": 5
}
