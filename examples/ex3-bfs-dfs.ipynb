{
 "cells": [
  {
   "cell_type": "code",
   "execution_count": 14,
   "id": "80912047-ca18-44e7-ba7d-b3aa6f6a165b",
   "metadata": {
    "tags": []
   },
   "outputs": [],
   "source": [
    "from collections import deque\n",
    "# Create a dequeue with deque()\n",
    "# Add items to the right with q.append()\n",
    "# Remove from the left with with q.popleft() \n",
    "\n",
    "# In this graph, using BFS you should go through 0, 1, and 2 on the way.\n",
    "# So, 'visited' will be {0, 1, 2}.\n",
    "graph = [\n",
    "    [0, 1],\n",
    "    [2, 3],\n",
    "    [3],\n",
    "    [0]\n",
    "]\n",
    "\n",
    "def bfs(graph, initial, target):\n",
    "    visited = set()\n",
    "    parent = {}\n",
    "    to_visit = deque()\n",
    "    to_visit.append(initial)\n",
    "    while to_visit:\n",
    "        current = to_visit.popleft()\n",
    "        if current is target:\n",
    "            return path_to_end(parent, current, initial)\n",
    "        if current not in visited:\n",
    "            visited.add(current)\n",
    "            neighbours = graph[current] \n",
    "            for neighbour in neighbours:\n",
    "                if neighbour not in parent:\n",
    "                    parent[neighbour] = current\n",
    "                to_visit.append(neighbour)\n",
    "    return None\n",
    "\n",
    "def path_to_end(parents, current, source):\n",
    "    if current == source:\n",
    "        return [source]\n",
    "    else:\n",
    "        return path_to_end(parents, parents[current], source) + [current]"
   ]
  },
  {
   "cell_type": "code",
   "execution_count": 15,
   "id": "dfa52433-c088-475a-98e1-1787d7e8acf0",
   "metadata": {
    "tags": []
   },
   "outputs": [],
   "source": [
    "graph = [\n",
    "    [0, 1],\n",
    "    [2, 3],\n",
    "    [3],\n",
    "    [0]\n",
    "]\n",
    "assert bfs(graph, 0, 3) == [0, 1, 3]"
   ]
  },
  {
   "cell_type": "code",
   "execution_count": 16,
   "id": "a9f40382-0675-4780-b856-98310aaace62",
   "metadata": {
    "tags": []
   },
   "outputs": [],
   "source": [
    "# You can use either a dequeue with append() and pop() to simulate a stack, or use a built-in array\n",
    "def dfs(graph, source, target):\n",
    "    visited = set()\n",
    "    parent = {}\n",
    "    to_visit = [source]\n",
    "    while to_visit:\n",
    "        current = to_visit.pop()\n",
    "        if current is target:\n",
    "            return path_to_end(parent, current, source)\n",
    "        if current not in visited:\n",
    "            visited.add(current)\n",
    "            neighbours = graph[current]         \n",
    "            for neighbour in neighbours:\n",
    "                if neighbour not in parent:\n",
    "                    parent[neighbour] = current\n",
    "                to_visit.append(neighbour)\n",
    "    return None\n",
    "\n",
    "\n",
    "graph = [\n",
    "    [0, 1],\n",
    "    [2, 3],\n",
    "    [3],\n",
    "    [0]\n",
    "]\n",
    "assert dfs(graph, 0, 3) == [0, 1, 3]"
   ]
  },
  {
   "cell_type": "code",
   "execution_count": null,
   "id": "5cca7371-88bf-4a0c-8970-b8fac1a89135",
   "metadata": {},
   "outputs": [],
   "source": []
  }
 ],
 "metadata": {
  "kernelspec": {
   "display_name": "Python 3 (ipykernel)",
   "language": "python",
   "name": "python3"
  },
  "language_info": {
   "codemirror_mode": {
    "name": "ipython",
    "version": 3
   },
   "file_extension": ".py",
   "mimetype": "text/x-python",
   "name": "python",
   "nbconvert_exporter": "python",
   "pygments_lexer": "ipython3",
   "version": "3.9.1"
  }
 },
 "nbformat": 4,
 "nbformat_minor": 5
}
