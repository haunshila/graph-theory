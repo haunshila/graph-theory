{
 "cells": [
  {
   "cell_type": "code",
   "execution_count": 1,
   "id": "4a112d85-a11c-419a-875d-a62e96ecacc7",
   "metadata": {
    "tags": []
   },
   "outputs": [],
   "source": [
    "### In this exercise, we'll explore networkx, creating graphs, computing their properties, and searching in them."
   ]
  },
  {
   "cell_type": "code",
   "execution_count": 4,
   "id": "b3da4c05-72d4-4ef7-aeec-4e1c0a0b3592",
   "metadata": {
    "tags": []
   },
   "outputs": [],
   "source": [
    "import networkx as nx\n",
    "G = nx.Graph()\n",
    "G.add_node(1)\n"
   ]
  },
  {
   "cell_type": "code",
   "execution_count": 5,
   "id": "fe042335-1968-4eb8-a5cf-83776bcab493",
   "metadata": {
    "tags": []
   },
   "outputs": [],
   "source": [
    "G.add_nodes_from([2, 3])"
   ]
  },
  {
   "cell_type": "code",
   "execution_count": 6,
   "id": "bf4d8121-cc49-4e3e-9d74-9fce7d6acfa0",
   "metadata": {
    "tags": []
   },
   "outputs": [
    {
     "name": "stdout",
     "output_type": "stream",
     "text": [
      "Graph with 3 nodes and 0 edges\n"
     ]
    }
   ],
   "source": [
    "print(G)"
   ]
  },
  {
   "cell_type": "code",
   "execution_count": 7,
   "id": "3bbe5f8a-e271-40aa-91ac-923cb51acdef",
   "metadata": {
    "tags": []
   },
   "outputs": [],
   "source": [
    "G.add_nodes_from([\n",
    "    (4, {\"color\": \"red\"}),\n",
    "    (5, {\"color\": \"green\"}),\n",
    "])"
   ]
  },
  {
   "cell_type": "code",
   "execution_count": 8,
   "id": "cb46caa5-b1e8-4041-8668-22ba419d91f6",
   "metadata": {
    "tags": []
   },
   "outputs": [
    {
     "name": "stdout",
     "output_type": "stream",
     "text": [
      "Graph with 5 nodes and 0 edges\n"
     ]
    }
   ],
   "source": [
    "print(G)"
   ]
  },
  {
   "cell_type": "code",
   "execution_count": 9,
   "id": "c2c1dff2-62e2-4578-890d-7fb2d54ae51d",
   "metadata": {
    "tags": []
   },
   "outputs": [],
   "source": [
    "H = nx.path_graph(10)"
   ]
  },
  {
   "cell_type": "code",
   "execution_count": 10,
   "id": "886fc335-5525-4ef5-aa03-35184d1f415c",
   "metadata": {
    "tags": []
   },
   "outputs": [
    {
     "name": "stdout",
     "output_type": "stream",
     "text": [
      "Graph with 10 nodes and 9 edges\n"
     ]
    }
   ],
   "source": [
    "print(H)"
   ]
  },
  {
   "cell_type": "code",
   "execution_count": 13,
   "id": "b3446d84-5502-45f6-b97c-1d6dffa4d0ef",
   "metadata": {
    "tags": []
   },
   "outputs": [],
   "source": [
    "G.add_nodes_from(H)"
   ]
  },
  {
   "cell_type": "code",
   "execution_count": 14,
   "id": "b35268b2-8050-4d86-a9dc-ab8432b93513",
   "metadata": {
    "tags": []
   },
   "outputs": [
    {
     "name": "stdout",
     "output_type": "stream",
     "text": [
      "Graph with 10 nodes and 0 edges\n"
     ]
    }
   ],
   "source": [
    "print(G)"
   ]
  },
  {
   "cell_type": "code",
   "execution_count": 15,
   "id": "470b37a0-09d3-4691-9060-a2e49279f087",
   "metadata": {
    "tags": []
   },
   "outputs": [],
   "source": [
    "G.add_edge(1, 2)\n",
    "e = (2, 3)\n",
    "G.add_edge(*e) "
   ]
  },
  {
   "cell_type": "code",
   "execution_count": 16,
   "id": "a529e0ca-92c7-4533-a7bd-47f036e57612",
   "metadata": {
    "tags": []
   },
   "outputs": [],
   "source": [
    "G.add_edges_from([(1, 2), (1, 3)])\n"
   ]
  },
  {
   "cell_type": "code",
   "execution_count": 17,
   "id": "7e208a60-6262-4353-9ea9-5bf890ec6d99",
   "metadata": {
    "tags": []
   },
   "outputs": [],
   "source": [
    "G.add_edges_from(H.edges)"
   ]
  },
  {
   "cell_type": "code",
   "execution_count": 18,
   "id": "fef45916-8a36-42f4-8b98-1399e22b8f9c",
   "metadata": {
    "tags": []
   },
   "outputs": [
    {
     "name": "stdout",
     "output_type": "stream",
     "text": [
      "Graph with 10 nodes and 10 edges\n"
     ]
    }
   ],
   "source": [
    "print(G)"
   ]
  },
  {
   "cell_type": "code",
   "execution_count": 19,
   "id": "49d3d262-2523-480e-a8fb-f61adf8e4ec9",
   "metadata": {
    "tags": []
   },
   "outputs": [
    {
     "data": {
      "text/plain": [
       "3"
      ]
     },
     "execution_count": 19,
     "metadata": {},
     "output_type": "execute_result"
    }
   ],
   "source": [
    "G.degree[1] \n"
   ]
  },
  {
   "cell_type": "code",
   "execution_count": 21,
   "id": "3a80d8f3-9cb8-4755-b71f-eccb58c126d9",
   "metadata": {
    "tags": []
   },
   "outputs": [
    {
     "data": {
      "text/plain": [
       "[1, 2, 3, 4, 5, 0, 6, 7, 8, 9]"
      ]
     },
     "execution_count": 21,
     "metadata": {},
     "output_type": "execute_result"
    }
   ],
   "source": [
    "list(G.nodes)"
   ]
  },
  {
   "cell_type": "code",
   "execution_count": 22,
   "id": "e8f6e056-94f4-40f8-a22b-d1c277383bb4",
   "metadata": {
    "tags": []
   },
   "outputs": [
    {
     "data": {
      "text/plain": [
       "[(1, 2),\n",
       " (1, 3),\n",
       " (1, 0),\n",
       " (2, 3),\n",
       " (3, 4),\n",
       " (4, 5),\n",
       " (5, 6),\n",
       " (6, 7),\n",
       " (7, 8),\n",
       " (8, 9)]"
      ]
     },
     "execution_count": 22,
     "metadata": {},
     "output_type": "execute_result"
    }
   ],
   "source": [
    "list(G.edges)"
   ]
  },
  {
   "cell_type": "code",
   "execution_count": 23,
   "id": "e6936d15-06f2-49e9-ac29-92bcb38550d8",
   "metadata": {
    "tags": []
   },
   "outputs": [
    {
     "data": {
      "text/plain": [
       "10"
      ]
     },
     "execution_count": 23,
     "metadata": {},
     "output_type": "execute_result"
    }
   ],
   "source": [
    "G.number_of_nodes() "
   ]
  },
  {
   "cell_type": "code",
   "execution_count": 24,
   "id": "b42338bb-a0a2-40c9-9da8-d23a66678743",
   "metadata": {
    "tags": []
   },
   "outputs": [],
   "source": [
    "G.add_edges_from([(3, 4), (4, 6), (3, 5), (3, 7), (5, 7), (6, 7), (1, 3)]) \n"
   ]
  },
  {
   "cell_type": "code",
   "execution_count": 25,
   "id": "db47027d-36b7-407f-a746-73b7cbb398e6",
   "metadata": {
    "tags": []
   },
   "outputs": [
    {
     "data": {
      "text/plain": [
       "[1, 3, 7]"
      ]
     },
     "execution_count": 25,
     "metadata": {},
     "output_type": "execute_result"
    }
   ],
   "source": [
    " # Here is how to breadth-first search in a graph\n",
    "from networkx.algorithms import shortest_path\n",
    "\n",
    "list(shortest_path(G, 1, 7))"
   ]
  },
  {
   "cell_type": "code",
   "execution_count": 26,
   "id": "d91db8b6-6af6-4ab0-ab98-080dda05bbe9",
   "metadata": {
    "tags": []
   },
   "outputs": [],
   "source": [
    "D = nx.DiGraph()\n",
    "D.add_nodes_from([4, 5, 6, 7])\n",
    "D.add_edges_from([(3, 4), (4, 6), (3, 5), (3, 7), (5, 7), (6, 7), (1, 3), (1, 3), (7, 1), (7, 3)])"
   ]
  },
  {
   "cell_type": "code",
   "execution_count": 35,
   "id": "d4ac09cc-952c-42fb-8f97-656db34ab03e",
   "metadata": {
    "tags": []
   },
   "outputs": [
    {
     "data": {
      "text/plain": [
       "[[1, 3, 7], [1, 3, 5, 7], [1, 3, 4, 6, 7], [3, 7], [3, 5, 7], [3, 4, 6, 7]]"
      ]
     },
     "execution_count": 35,
     "metadata": {},
     "output_type": "execute_result"
    }
   ],
   "source": [
    " # We can also find cycles in a graph.\n",
    "# Use the `simple_cycles` algorith to find all simple cycles, and\n",
    "# use `find_cycle` to find any particular cycle.\n",
    "from networkx.algorithms import simple_cycles\n",
    "list(simple_cycles(D))"
   ]
  },
  {
   "cell_type": "code",
   "execution_count": 37,
   "id": "7c198b72-3b22-49f8-8509-e73e89170771",
   "metadata": {
    "tags": []
   },
   "outputs": [
    {
     "data": {
      "text/plain": [
       "False"
      ]
     },
     "execution_count": 37,
     "metadata": {},
     "output_type": "execute_result"
    }
   ],
   "source": [
    " # Is this graph a tree?\n",
    "# Use the `is_tree` algorithm to determine it!\n",
    "from networkx.algorithms import is_tree\n",
    "is_tree(D)"
   ]
  },
  {
   "cell_type": "code",
   "execution_count": 32,
   "id": "17c50c36-8836-4044-885c-ed9df5e100cd",
   "metadata": {
    "tags": []
   },
   "outputs": [
    {
     "data": {
      "image/png": "[encoded data removed]",
      "text/plain": [
       "<Figure size 640x480 with 1 Axes>"
      ]
     },
     "metadata": {},
     "output_type": "display_data"
    }
   ],
   "source": [
    " # We can render graphs by using \n",
    "\n",
    "import matplotlib.pyplot as plt\n",
    "\n",
    "G = nx.complete_graph(6)\n",
    "plt.plot()\n",
    "nx.draw(G, with_labels=True, font_weight='bold')"
   ]
  },
  {
   "cell_type": "code",
   "execution_count": 38,
   "id": "9cf1e30b-9fc3-4430-bdc5-114579f2950d",
   "metadata": {
    "tags": []
   },
   "outputs": [
    {
     "data": {
      "image/png": "[encoded data removed]",
      "text/plain": [
       "<Figure size 640x480 with 1 Axes>"
      ]
     },
     "metadata": {},
     "output_type": "display_data"
    }
   ],
   "source": [
    "# Create a complete graph with 4 nodes, and then render it.  \n",
    "\n",
    "import matplotlib.pyplot as plt\n",
    "\n",
    "G = nx.complete_graph(4)\n",
    "plt.plot()\n",
    "nx.draw(G, with_labels=True, font_weight='bold')\n",
    "\n"
   ]
  },
  {
   "cell_type": "code",
   "execution_count": null,
   "id": "e99c8f93-b1fc-4499-ba13-b4fcb4ba98a3",
   "metadata": {},
   "outputs": [],
   "source": []
  }
 ],
 "metadata": {
  "kernelspec": {
   "display_name": "Python 3 (ipykernel)",
   "language": "python",
   "name": "python3"
  },
  "language_info": {
   "codemirror_mode": {
    "name": "ipython",
    "version": 3
   },
   "file_extension": ".py",
   "mimetype": "text/x-python",
   "name": "python",
   "nbconvert_exporter": "python",
   "pygments_lexer": "ipython3",
   "version": "3.9.1"
  }
 },
 "nbformat": 4,
 "nbformat_minor": 5
}
