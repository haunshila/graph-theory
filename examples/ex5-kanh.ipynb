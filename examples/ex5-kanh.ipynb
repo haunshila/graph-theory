{
 "cells": [
  {
   "cell_type": "code",
   "execution_count": 20,
   "id": "13d7a106-f193-46ea-a861-05b2ea33ee9a",
   "metadata": {
    "tags": []
   },
   "outputs": [],
   "source": [
    " import networkx as nx\n",
    "G = nx.DiGraph()\n",
    "G.add_edges_from([(1, 2), (1, 3), (1, 9),\n",
    "                 (2, 7),\n",
    "                 (3, 4),\n",
    "                 (4, 5), (4, 6),\n",
    "                 (5, 7),\n",
    "                 (6, 10), (6, 8),\n",
    "                 (7, 8),\n",
    "                 (8, 11), (8, 13),\n",
    "                 (9, 10),\n",
    "                 (10, 13),\n",
    "                 (11, 12),\n",
    "                 (12, 15),\n",
    "                 (13, 14), (13, 15)])\n",
    "# For testing purposes\n",
    "original_node_count = G.number_of_nodes()\n",
    "original_edge_count = G.number_of_edges()"
   ]
  },
  {
   "cell_type": "code",
   "execution_count": 21,
   "id": "fa0f517e-bd05-4463-a6e3-e41ff7d71dec",
   "metadata": {
    "tags": []
   },
   "outputs": [
    {
     "name": "stdout",
     "output_type": "stream",
     "text": [
      "[1, 2, 3, 9, 4, 5, 6, 7, 10, 8, 11, 13, 12, 14, 15]\n"
     ]
    }
   ],
   "source": [
    "from networkx.algorithms import simple_cycles\n",
    "\n",
    "# Return a topological sort of a directed graph using Kahn's algorithm\n",
    "def kahns(g):\n",
    "    if len(list(simple_cycles(g))) > 0 :\n",
    "        return []\n",
    "    copy = g.copy()\n",
    "    zero_in_degree_nodes = []\n",
    "    processed = set()\n",
    "    processing = set()\n",
    "    while (len(zero_in_degree_nodes) < copy.number_of_nodes()):\n",
    "        for node in copy.nodes:\n",
    "            if copy.in_degree(node) == 0 and node not in processed:\n",
    "                zero_in_degree_nodes.append(node)\n",
    "                processed.add(node)\n",
    "                processing.add(node)\n",
    "        for edge in g.edges:\n",
    "            if edge[0] in processing:\n",
    "                copy.remove_edge(*edge)\n",
    "        processing = set()\n",
    "    return zero_in_degree_nodes\n",
    "\n",
    "\n",
    "answer = kahns(G)\n",
    "print(answer)"
   ]
  },
  {
   "cell_type": "code",
   "execution_count": 22,
   "id": "5f05338d-eb5f-4a36-85f2-e15c13ce8cd2",
   "metadata": {
    "tags": []
   },
   "outputs": [],
   "source": [
    "\n",
    "# For testing purposes\n",
    "# Test to make sure the answer contains the right data\n",
    "assert len(answer) == 15\n",
    "assert set(answer) == set(range(1, 16))\n",
    "\n",
    "# Test to make sure the algorithm did not modify the original graph\n",
    "assert G.number_of_nodes() == original_node_count\n",
    "assert G.number_of_edges() == original_edge_count\n",
    "assert G.degree[1] == 3\n",
    "\n",
    "# Returns whether or not first comes before second in the list\n",
    "def comes_before(first, second, list):\n",
    "    first_seen = False\n",
    "    for x in list:\n",
    "        if x == first:\n",
    "            first_seen = True\n",
    "        elif x == second:\n",
    "            return first_seen\n",
    "    return False\n",
    "\n",
    "# Test the order properties\n",
    "assert answer[0] == 1\n",
    "assert comes_before(1, 15, answer)\n",
    "assert comes_before(4, 10, answer)"
   ]
  },
  {
   "cell_type": "code",
   "execution_count": 4,
   "id": "31420308-26c9-441b-90d8-693e258de191",
   "metadata": {
    "tags": []
   },
   "outputs": [
    {
     "name": "stdout",
     "output_type": "stream",
     "text": [
      "[1, 2, 3, 9, 4, 5, 6, 7, 10, 8, 11, 13, 12, 14, 15]\n"
     ]
    }
   ],
   "source": []
  },
  {
   "cell_type": "code",
   "execution_count": null,
   "id": "469c8951-afb2-439d-a954-e7575511a07c",
   "metadata": {},
   "outputs": [],
   "source": []
  }
 ],
 "metadata": {
  "kernelspec": {
   "display_name": "Python 3 (ipykernel)",
   "language": "python",
   "name": "python3"
  },
  "language_info": {
   "codemirror_mode": {
    "name": "ipython",
    "version": 3
   },
   "file_extension": ".py",
   "mimetype": "text/x-python",
   "name": "python",
   "nbconvert_exporter": "python",
   "pygments_lexer": "ipython3",
   "version": "3.9.1"
  }
 },
 "nbformat": 4,
 "nbformat_minor": 5
}
